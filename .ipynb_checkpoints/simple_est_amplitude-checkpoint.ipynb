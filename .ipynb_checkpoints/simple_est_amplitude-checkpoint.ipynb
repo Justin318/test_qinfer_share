{
 "cells": [
  {
   "cell_type": "markdown",
   "metadata": {},
   "source": [
    "# Using QInfer to estimate the amplitude of Ramsey fringe"
   ]
  },
  {
   "cell_type": "code",
   "execution_count": 7,
   "metadata": {
    "ExecuteTime": {
     "end_time": "2018-03-13T05:25:04.402162Z",
     "start_time": "2018-03-13T05:25:04.396275Z"
    },
    "collapsed": true
   },
   "outputs": [],
   "source": [
    "import numpy as np\n",
    "import matplotlib.pyplot as plt\n",
    "\n",
    "from qinfer.derived_models import BinomialModel\n",
    "from qinfer.distributions import UniformDistribution, PostselectedDistribution\n",
    "from qinfer.simple_est import load_data_or_txt, data_to_params, do_update\n",
    "\n",
    "_twopi = 2 * np.pi"
   ]
  },
  {
   "cell_type": "code",
   "execution_count": 10,
   "metadata": {
    "ExecuteTime": {
     "end_time": "2018-03-13T05:26:51.960137Z",
     "start_time": "2018-03-13T05:26:51.857099Z"
    }
   },
   "outputs": [],
   "source": [
    "from qinfer.abstract_model import FiniteOutcomeModel\n",
    "\n",
    "\n",
    "class AmplitudeEstimator(FiniteOutcomeModel):\n",
    "    r\"\"\"\n",
    "    Describes the free evolution of a single qubit prepared in the\n",
    "    :math:`\\left|+\\right\\rangle` state under a Hamiltonian :math:`H = \\omega \\sigma_z / 2`,\n",
    "    using the interactive QLE model proposed by [WGFC13a]_.\n",
    "\n",
    "    :param float min_freq: Minimum value for :math:`\\omega` to accept as valid.\n",
    "        This is used for testing techniques that mitigate the effects of\n",
    "        degenerate models; there is no \"good\" reason to ever set this other\n",
    "        than zero, other than to test with an explicitly broken model.\n",
    "    \"\"\"\n",
    "\n",
    "    ## INITIALIZER ##\n",
    "\n",
    "    def __init__(self, freq):\n",
    "        super().__init__()\n",
    "        # self._min_freq = freq\n",
    "        self._freq = freq\n",
    "\n",
    "    ## PROPERTIES ##\n",
    "\n",
    "    @property\n",
    "    def n_modelparams(self):\n",
    "        return 2\n",
    "\n",
    "    @property\n",
    "    def modelparam_names(self):\n",
    "        return [\n",
    "            r'a',\n",
    "            r'offset'\n",
    "        ]\n",
    "\n",
    "    @property\n",
    "    def expparams_dtype(self):\n",
    "        return [('t', 'float')]\n",
    "\n",
    "    @property\n",
    "    def is_n_outcomes_constant(self):\n",
    "        \"\"\"\n",
    "        Returns ``True`` if and only if the number of outcomes for each\n",
    "        experiment is independent of the experiment being performed.\n",
    "\n",
    "        This property is assumed by inference engines to be constant for\n",
    "        the lifetime of a Model instance.\n",
    "        \"\"\"\n",
    "        return True\n",
    "\n",
    "    ## METHODS ##\n",
    "\n",
    "    def are_models_valid(self, modelparams):\n",
    "        \"\"\"\n",
    "\n",
    "        Args:\n",
    "            modelparams:\n",
    "\n",
    "        Returns:\n",
    "\n",
    "        \"\"\"\n",
    "        # return np.all(np.ones(modelparams.shape), axis=1)  # np.all(modelparams > self._min_freq, axis=1)\n",
    "        a = modelparams[:, 0]\n",
    "        offset = modelparams[:, 1]\n",
    "        return np.logical_and(-a + offset > 0, a + offset < 1)\n",
    "\n",
    "    def n_outcomes(self, expparams):\n",
    "        \"\"\"\n",
    "        Returns an array of dtype ``uint`` describing the number of outcomes\n",
    "        for each experiment specified by ``expparams``.\n",
    "\n",
    "        :param numpy.ndarray expparams: Array of experimental parameters. This\n",
    "            array must be of dtype agreeing with the ``expparams_dtype``\n",
    "            property.\n",
    "        \"\"\"\n",
    "        return 2\n",
    "\n",
    "    def likelihood(self, outcomes, modelparams, expparams):\n",
    "        # By calling the superclass implementation, we can consolidate\n",
    "        # call counting there.\n",
    "        super().likelihood(\n",
    "            outcomes, modelparams, expparams\n",
    "        )\n",
    "\n",
    "        # Possibly add a second axis to modelparams.\n",
    "        if len(modelparams.shape) == 1:\n",
    "            modelparams = modelparams[..., np.newaxis]\n",
    "\n",
    "        t = expparams['t']\n",
    "        dw = self._freq\n",
    "\n",
    "        a = modelparams[:, 0][..., np.newaxis]\n",
    "        phi = 0\n",
    "        offset = modelparams[:, 1][..., np.newaxis]\n",
    "\n",
    "        # Allocating first serves to make sure that a shape mismatch later\n",
    "        # will cause an error.\n",
    "        pr0 = np.zeros((modelparams.shape[0], expparams.shape[0]))\n",
    "        # pr0[:, :] = np.cos(t * dw / 2) ** 2\n",
    "        pr0[:, :] = 1 - (a * np.cos(t * dw + phi) + offset)  # np.cos(t * dw / 2) ** 2\n",
    "\n",
    "        # Now we concatenate over outcomes.\n",
    "        return FiniteOutcomeModel.pr0_to_likelihood_array(outcomes, pr0)"
   ]
  },
  {
   "cell_type": "code",
   "execution_count": 27,
   "metadata": {
    "ExecuteTime": {
     "end_time": "2018-03-13T05:46:38.592437Z",
     "start_time": "2018-03-13T05:46:38.432401Z"
    },
    "scrolled": false
   },
   "outputs": [],
   "source": [
    "\n",
    "from unittest import TestCase\n",
    "import gvar\n",
    "\n",
    "\n",
    "class TestAmplitudeEstimator(TestCase):\n",
    "    \n",
    "    def test_qinfer_estimate(self, a, omega, phase, offset):\n",
    "        \"\"\"\n",
    "\n",
    "        Returns:\n",
    "\n",
    "        \"\"\"\n",
    "\n",
    "        true_omega = omega\n",
    "        omega_min, omega_max = [0, 4 * np.pi]\n",
    "        n_shots = 200\n",
    "\n",
    "        ts = np.linspace(0, 2, 20)\n",
    "\n",
    "        signal = a * np.cos(true_omega * ts + phase) + offset\n",
    "\n",
    "        assert np.all(signal <= 1) and np.all(signal >= 0)\n",
    "\n",
    "        counts = np.random.binomial(n=n_shots, p=signal)\n",
    "\n",
    "        data = np.column_stack([counts, ts, n_shots * np.ones_like(counts)])\n",
    "\n",
    "        mean, cov, extra = self.run_estimate(data, true_omega,\n",
    "                                             # freq_min=omega_min, freq_max=omega_max,\n",
    "                                             return_all=True)\n",
    "\n",
    "        return mean, cov\n",
    "\n",
    "    @staticmethod\n",
    "    def run_estimate(data, freq,\n",
    "                     n_particles=10000, return_all=False):\n",
    "        \"\"\"this is a copy of qinfer.simple_\n",
    "\n",
    "        Args:\n",
    "            data:\n",
    "            n_particles:\n",
    "            return_all:\n",
    "\n",
    "        Returns:\n",
    "\n",
    "        \"\"\"\n",
    "        model = BinomialModel(AmplitudeEstimator(freq))\n",
    "        prior =  PostselectedDistribution(\n",
    "        UniformDistribution(\n",
    "            [\n",
    "                [0.30, 0.5],\n",
    "                [0.30, 0.5]\n",
    "             ]),\n",
    "           model,\n",
    "           maxiters=10000\n",
    "        )\n",
    "\n",
    "        data = load_data_or_txt(data, [\n",
    "            ('counts', 'uint'),\n",
    "            ('t', float),\n",
    "            ('n_shots', 'uint')\n",
    "        ])\n",
    "\n",
    "        outcomes, expparams = data_to_params(data,\n",
    "            model.expparams_dtype,\n",
    "            cols_expparams={\n",
    "                't': (1, 't'),\n",
    "                'n_meas': (2, 'n_shots')\n",
    "            }\n",
    "        )\n",
    "\n",
    "        return do_update(\n",
    "            model, n_particles, prior, outcomes, expparams,\n",
    "            return_all\n",
    "        )\n",
    "\n",
    "    def bootstrap(self, a=0.45):\n",
    "        \"\"\"\n",
    "        \"\"\"\n",
    "        omega = _twopi\n",
    "        phi = 0\n",
    "        offset = 0.5\n",
    "        \n",
    "        nbootstrap = 500\n",
    "        amp = []\n",
    "        for ii in range(nbootstrap):\n",
    "            mean, cov = self.test_qinfer_estimate(a, omega, phi, offset)\n",
    "            amp.append(gvar.gvar(mean[0], np.sqrt(np.diag(cov))[0]))\n",
    "            \n",
    "        a_weighted = np.mean(gvar.mean(amp))\n",
    "        print('mean = {}'.format((a_weighted - a) / a))\n",
    "            \n",
    "        plt.figure(figsize=(8, 4))\n",
    "        plt.subplot(1, 2, 1)\n",
    "        plt.hist((gvar.mean(amp) - a) / a)\n",
    "        plt.xlabel('ratio of a_fit / a - 1')\n",
    "        plt.ylabel('frequency')\n",
    "        \n",
    "        plt.subplot(1, 2, 2)\n",
    "        plt.hist(gvar.sdev(amp))\n",
    "        plt.xlabel('standard error of a')\n",
    "        plt.ylabel('frequency')\n",
    "        \n",
    "        plt.tight_layout()\n",
    "        \n",
    "        plt.show()\n",
    "        "
   ]
  },
  {
   "cell_type": "markdown",
   "metadata": {},
   "source": [
    "## Bootstrap with amplitude = 0.45"
   ]
  },
  {
   "cell_type": "code",
   "execution_count": 28,
   "metadata": {
    "ExecuteTime": {
     "end_time": "2018-03-13T05:47:14.783875Z",
     "start_time": "2018-03-13T05:46:40.352869Z"
    }
   },
   "outputs": [
    {
     "name": "stdout",
     "output_type": "stream",
     "text": [
      "mean = 0.00023973257922804692\n"
     ]
    },
    {
     "data": {
      "image/png": "[encoded data removed]",
      "text/plain": [
       "<matplotlib.figure.Figure at 0x1dc3c863f28>"
      ]
     },
     "metadata": {},
     "output_type": "display_data"
    }
   ],
   "source": [
    "s = TestAmplitudeEstimator()\n",
    "s.bootstrap(a=0.45)"
   ]
  },
  {
   "cell_type": "markdown",
   "metadata": {},
   "source": [
    "## Bootstrap with amplitude = 0.49"
   ]
  },
  {
   "cell_type": "code",
   "execution_count": 29,
   "metadata": {
    "ExecuteTime": {
     "end_time": "2018-03-13T05:47:59.243658Z",
     "start_time": "2018-03-13T05:47:27.677610Z"
    }
   },
   "outputs": [
    {
     "name": "stdout",
     "output_type": "stream",
     "text": [
      "mean = -0.003317317343218021\n"
     ]
    },
    {
     "data": {
      "image/png": "[encoded data removed]",
      "text/plain": [
       "<matplotlib.figure.Figure at 0x1dc3c97aa20>"
      ]
     },
     "metadata": {},
     "output_type": "display_data"
    }
   ],
   "source": [
    "s = TestAmplitudeEstimator()\n",
    "s.bootstrap(a=0.495)"
   ]
  }
 ],
 "metadata": {
  "kernelspec": {
   "display_name": "Python [conda env:py36]",
   "language": "python",
   "name": "conda-env-py36-py"
  },
  "language_info": {
   "codemirror_mode": {
    "name": "ipython",
    "version": 3
   },
   "file_extension": ".py",
   "mimetype": "text/x-python",
   "name": "python",
   "nbconvert_exporter": "python",
   "pygments_lexer": "ipython3",
   "version": "3.6.3"
  },
  "toc": {
   "nav_menu": {},
   "number_sections": true,
   "sideBar": true,
   "skip_h1_title": false,
   "toc_cell": false,
   "toc_position": {},
   "toc_section_display": "block",
   "toc_window_display": false
  }
 },
 "nbformat": 4,
 "nbformat_minor": 2
}
